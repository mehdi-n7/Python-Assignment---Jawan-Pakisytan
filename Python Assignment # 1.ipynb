{
 "cells": [
  {
   "cell_type": "code",
   "execution_count": 1,
   "id": "e3ed10b5",
   "metadata": {
    "scrolled": true
   },
   "outputs": [
    {
     "name": "stdout",
     "output_type": "stream",
     "text": [
      "Twinkle, twinkle, little star,\n",
      "            How I wonder what you are!\n",
      "                    Up above the world so high,\n",
      "                    Like a diamond in the sky.\n",
      "Twinkle, twinkle, little star,\n",
      "            How I wonder what you are.  \n",
      "\n"
     ]
    }
   ],
   "source": [
    "print ('''Twinkle, twinkle, little star,\n",
    "            How I wonder what you are!\n",
    "                    Up above the world so high,\n",
    "                    Like a diamond in the sky.\n",
    "Twinkle, twinkle, little star,\n",
    "            How I wonder what you are.  \n",
    "''')"
   ]
  },
  {
   "cell_type": "code",
   "execution_count": 1,
   "id": "215fe5a3",
   "metadata": {
    "scrolled": false
   },
   "outputs": [
    {
     "name": "stdout",
     "output_type": "stream",
     "text": [
      "Current Python Version= 3\n",
      "3\n"
     ]
    }
   ],
   "source": [
    "a = input (\"Current Python Version= \")\n",
    "print (a)"
   ]
  },
  {
   "cell_type": "code",
   "execution_count": 3,
   "id": "ea58936b",
   "metadata": {},
   "outputs": [
    {
     "name": "stdout",
     "output_type": "stream",
     "text": [
      "Input Current Date= 1 Jan 2022\n",
      "Input Current Time= 6:10pm\n",
      "1 Jan 2022 6:10pm\n"
     ]
    }
   ],
   "source": [
    "d= input (\"Input Current Date= \")\n",
    "t= input (\"Input Current Time= \")\n",
    "print (d+ \" \"+ t)"
   ]
  },
  {
   "cell_type": "code",
   "execution_count": 7,
   "id": "39c057da",
   "metadata": {},
   "outputs": [
    {
     "name": "stdout",
     "output_type": "stream",
     "text": [
      "Input Radius(cm)= 2\n",
      " Area = 12.568cm^2\n"
     ]
    }
   ],
   "source": [
    "r= input (\"Input Radius(cm)= \")\n",
    "Area= 3.142 * int(r) * int(r)\n",
    "print (f' Area = {Area}cm^2')"
   ]
  },
  {
   "cell_type": "code",
   "execution_count": 3,
   "id": "73008e77",
   "metadata": {},
   "outputs": [
    {
     "name": "stdout",
     "output_type": "stream",
     "text": [
      "First Name= Mehdi\n",
      "Last Name= Naqvi\n",
      "Naqvi Mehdi\n"
     ]
    }
   ],
   "source": [
    "a= input (\"First Name= \")\n",
    "b= input (\"Last Name= \")\n",
    "print(b + \" \" +a)"
   ]
  },
  {
   "cell_type": "code",
   "execution_count": 2,
   "id": "a60339bc",
   "metadata": {},
   "outputs": [
    {
     "name": "stdout",
     "output_type": "stream",
     "text": [
      "Number 1: 2\n",
      "Number 2: 5\n",
      "7\n"
     ]
    }
   ],
   "source": [
    "a= input (\"Number 1: \")\n",
    "b= input (\"Number 2: \")\n",
    "print (int(a) + int (b))"
   ]
  }
 ],
 "metadata": {
  "kernelspec": {
   "display_name": "Python 3 (ipykernel)",
   "language": "python",
   "name": "python3"
  },
  "language_info": {
   "codemirror_mode": {
    "name": "ipython",
    "version": 3
   },
   "file_extension": ".py",
   "mimetype": "text/x-python",
   "name": "python",
   "nbconvert_exporter": "python",
   "pygments_lexer": "ipython3",
   "version": "3.9.7"
  }
 },
 "nbformat": 4,
 "nbformat_minor": 5
}
